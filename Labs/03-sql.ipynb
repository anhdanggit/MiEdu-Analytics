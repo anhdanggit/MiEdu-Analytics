{
 "metadata": {
  "language_info": {
   "codemirror_mode": {
    "name": "ipython",
    "version": 3
   },
   "file_extension": ".py",
   "mimetype": "text/x-python",
   "name": "python",
   "nbconvert_exporter": "python",
   "pygments_lexer": "ipython3",
   "version": "3.8.3"
  },
  "orig_nbformat": 4,
  "kernelspec": {
   "name": "python3",
   "display_name": "Python 3.8.3 64-bit (conda)"
  },
  "interpreter": {
   "hash": "0af6d0490f2597823f87d92aa5eca07e4b752751b56387b5dbca6d3197d35149"
  }
 },
 "nbformat": 4,
 "nbformat_minor": 2,
 "cells": [
  {
   "source": [
    "# SQL"
   ],
   "cell_type": "markdown",
   "metadata": {}
  },
  {
   "source": [
    "## SQL CLI\n",
    "\n",
    "![sqlite-sample-database-color.jpeg](./images/sqlite-sample-database-color.jpeg)"
   ],
   "cell_type": "markdown",
   "metadata": {}
  },
  {
   "source": [
    "1. Notice to check the db (.db should be in pwd)\n",
    "2. Initalize SQLite CLI: `sqlite3`  \n",
    "3. Open the DB: `.open chinook.db`"
   ],
   "cell_type": "markdown",
   "metadata": {}
  },
  {
   "source": [
    "## Inspect the Data\n",
    "3. Check the list tables: `.tables`\n",
    "4. Check schema (structure of fields/columns): `.schema customers`\n",
    "5. Check database we have `.databases`\n",
    "6. Check indexes: `.indexes` or `.indexes customers`\n",
    "7. Query data:\n",
    "```\n",
    "sqlite> SELECT *\n",
    "   ...> FROM customers\n",
    "   ...> LIMIT 5;\n",
    "```\n"
   ],
   "cell_type": "markdown",
   "metadata": {}
  },
  {
   "cell_type": "code",
   "execution_count": 6,
   "metadata": {},
   "outputs": [],
   "source": [
    "# TODO: Compare the result with the Diagram"
   ]
  },
  {
   "source": [
    "## SQL Editor (SQLite Online)\n",
    "\n",
    "Though CLI might not be very friendly to learn SQL, let's use the online tools which it esaier (and more similar to the SQL Editor we actually work with in reality)\n",
    "\n",
    "> https://sqliteonline.com/\n",
    "\n",
    "1. `File` -> Upload the `sql/chinook.db`\n",
    "2. On right panel, you will see all data schema and tables\n",
    "3. In the middle, the place we right SQL code (+ Output)\n",
    "4. Friendly to SQL-learner, we have the syntax cheatsheet\n",
    "\n",
    "![sqlite-online.png](./images/sqlite-online.png)"
   ],
   "cell_type": "markdown",
   "metadata": {}
  },
  {
   "cell_type": "code",
   "execution_count": 13,
   "metadata": {},
   "outputs": [],
   "source": [
    "#TODO: Copy the code below and pass it to sqliteonline.com"
   ]
  },
  {
   "source": [
    "**Something about SQL**\n",
    "\n",
    "* Not indentation & Upper/Lowe Case sensitive"
   ],
   "cell_type": "markdown",
   "metadata": {}
  },
  {
   "cell_type": "code",
   "execution_count": null,
   "metadata": {},
   "outputs": [],
   "source": [
    "# Select columns\n",
    "SELECT \n",
    "\t* ## All cols\n",
    "FROM invoice_items ## tables\n",
    "LIMIT 10; ## Limit the returns data"
   ]
  },
  {
   "cell_type": "code",
   "execution_count": null,
   "metadata": {},
   "outputs": [],
   "source": [
    "SELECT \n",
    "\tinvoiceid, ## List all selected cols\n",
    "    unitprice\n",
    "FROM invoice_items\n",
    "LIMIT 10; "
   ]
  },
  {
   "source": [
    "![compare-operator.png](./images/compare-operator.png)"
   ],
   "cell_type": "markdown",
   "metadata": {}
  },
  {
   "cell_type": "code",
   "execution_count": null,
   "metadata": {},
   "outputs": [],
   "source": [
    "# Filters with WHERE\n",
    "SELECT \n",
    "\t*\n",
    "FROM employees\n",
    "WHERE lastname = 'Adams'; # Try with <> "
   ]
  },
  {
   "cell_type": "code",
   "execution_count": null,
   "metadata": {},
   "outputs": [],
   "source": [
    "# CASE WHEN (similar to if-else)\n",
    "SELECT \n",
    "\temployeeid,\n",
    "    lastname,\n",
    "    CASE reportsto \n",
    "    \tWHEN 1 THEN 'Adams'\n",
    "        WHEN 2 THEN 'Edwards'\n",
    "        WHEN 6 THEN 'Mitchell'\n",
    "        ELSE 'None'\n",
    "    END AS boss_name\n",
    "FROM employees\n",
    ";"
   ]
  },
  {
   "source": [
    "##"
   ],
   "cell_type": "markdown",
   "metadata": {}
  },
  {
   "cell_type": "code",
   "execution_count": null,
   "metadata": {},
   "outputs": [],
   "source": [
    "# AGGREGATE, GROUP BY, ORDER BY\n",
    "SELECT \n",
    "\tbillingstate,\n",
    "\tinvoicedate,\n",
    "    SUM(total) AS total_value, ## Aggregate func: COUNT(), MAX(), SUM(), AVG()\n",
    "    COUNT(customerid) AS customer_cnt,\n",
    "    COUNT(invoiceid) AS invoice_cnt\n",
    "FROM invoices\n",
    "WHERE billingstate IS NOT NULL\n",
    "GROUP BY billingstate, invoicedate ## GROUPS\n",
    "ORDER BY total_value DESC ## ORDER BY\n",
    ";"
   ]
  },
  {
   "cell_type": "code",
   "execution_count": null,
   "metadata": {},
   "outputs": [],
   "source": [
    "# Filters with HAVING\n",
    "SELECT \n",
    "\tbillingstate,\n",
    "\tinvoicedate,\n",
    "    SUM(total) AS total_value,\n",
    "    COUNT(customerid) AS customer_cnt,\n",
    "    COUNT(invoiceid) AS invoice_cnt\n",
    "FROM invoices\n",
    "GROUP BY billingstate, invoicedate\n",
    "HAVING billingstate iS NOT NULL ## Equivalent to above, filter after the aggregation\n",
    "ORDER BY total_value DESC\n",
    ";"
   ]
  },
  {
   "source": [
    "![sql-wrapup.png](./images/sql-wrapup.png)"
   ],
   "cell_type": "markdown",
   "metadata": {}
  },
  {
   "source": [
    "## Merge / Combine tables\n",
    "\n",
    "* For most of the case, we need to combine data from several tables\n",
    "* Check the Diagram, pay attention to the keys\n",
    "\n",
    "![sqlite-sample-database-color.jpeg](./images/sqlite-sample-database-color.jpeg)"
   ],
   "cell_type": "markdown",
   "metadata": {}
  },
  {
   "source": [
    "**Tips** \n",
    "\n",
    "1. For most of the cases, you only need to remember `LEFT JOIN`, `INNER JOIN` (not common `FULL JOIN`, and `RIGHT JOIN` similar to LEFT)\n",
    "2. Check the counts of ID before merge (after merge your total numbers, or id counts is expected to match your expectations)\n",
    "    - Bigger table (in ID cnt) put on the left. After LEFT JOIN, id cnt of new table = id cnt of the left (bigger table)\n",
    "    - Inner join: the putput table have the ID cnt = ID cnt in table 1 exist in table 2\n",
    "    - Similar you put other checks (follow the venn)\n",
    "\n",
    "![joining-type.png](./images/joining-type.png)"
   ],
   "cell_type": "markdown",
   "metadata": {}
  },
  {
   "cell_type": "code",
   "execution_count": 11,
   "metadata": {},
   "outputs": [],
   "source": [
    "# MERGE TABLES\n",
    "SELECT \n",
    "\tt1.*,\n",
    "\tt2.trackid, # Cols attribute to table\n",
    "    t2.name, \n",
    "    t2.albumid\n",
    "FROM invoice_items AS t1 ## Alias for table\n",
    "LEFT JOIN tracks AS t2 ## Joining type\n",
    "ON t1.trackid = t2.trackid ## key to join\n",
    ";"
   ]
  },
  {
   "source": [
    "![sql-union.png](./images/sql-union.png)"
   ],
   "cell_type": "markdown",
   "metadata": {}
  },
  {
   "cell_type": "code",
   "execution_count": null,
   "metadata": {},
   "outputs": [],
   "source": [
    "# SUB-QUERIES & ENSEMBLE\n",
    "WITH output1 AS (\n",
    "  SELECT \n",
    "  *\n",
    "FROM playlists\n",
    "WHERE name = 'Music'),\n",
    "\n",
    "output2 AS\n",
    "(SELECT *\n",
    "FROM playlists\n",
    "WHERE name = 'Movies')\n",
    "\n",
    "SELECT *\n",
    "FROM output1\n",
    "UNION ## Others: UNION ALL, INTERSECT\n",
    "SELECT *\n",
    "FROM output2"
   ]
  },
  {
   "cell_type": "code",
   "execution_count": null,
   "metadata": {},
   "outputs": [],
   "source": [
    "#TODO:\n",
    "# 1. Sum all Total by CustomerId (table: invoices)\n",
    "# 2. Count track within each playlist (table: playlist_track)\n",
    "# 3. Merge table invoices and invoice_item to get all trackid purchased in the invoice of each customers (cols: customerid, invoiceid, total, trackid, unitprice, quantity)\n",
    "# 4. Merge with table tracks (Hints: Using sub-queries, turn output in (3) into a sub-queries) with the output in (3). Filter out Composer IS NULL\n",
    "# 5. From the output of 4. Aggregate sum of quantity and sum of total by Name (of track) and Composer (Hints: Using sub-queries, turn output in (4) into a sub-queries). ORDER from high total value to low total value"
   ]
  },
  {
   "cell_type": "code",
   "execution_count": null,
   "metadata": {},
   "outputs": [],
   "source": [
    "#TODO:\n",
    "## Identify the Top 5 biggest customers\n",
    "# 1. Sum the total quantity, count of invoice, and total value by each Invoice (tables: invoice_items => invoices. Take top 5\n",
    "# 2. Sum the total quantity, count of invoice, and total value by each Users (tables: invoice_items => invoices => customers)\n",
    "## Who are the key employees the Support Rep of the biggest customers\n",
    "# 3. Merge output of (2) to employees to get who is Support Rep of the customer\n",
    "# 4. Sum the total quantity, count of invoice, and total value by Support Rep"
   ]
  },
  {
   "cell_type": "code",
   "execution_count": 14,
   "metadata": {},
   "outputs": [],
   "source": [
    "## How we declare the whole data structures, keys? (Read: DML, DDL in Materials)"
   ]
  }
 ]
}