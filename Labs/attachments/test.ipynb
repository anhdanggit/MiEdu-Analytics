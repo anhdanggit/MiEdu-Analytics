{
 "cells": [
  {
   "cell_type": "code",
   "execution_count": 12,
   "source": [
    "import pandas as pd\n",
    "import matplotlib.pyplot as plt"
   ],
   "outputs": [],
   "metadata": {}
  },
  {
   "cell_type": "code",
   "execution_count": 15,
   "source": [
    "df = pd.read_csv('/Users/danghuynhmaianh/Downloads/taxi_rides 2.csv')"
   ],
   "outputs": [],
   "metadata": {}
  },
  {
   "cell_type": "code",
   "execution_count": 16,
   "source": [
    "df.head()"
   ],
   "outputs": [
    {
     "output_type": "execute_result",
     "data": {
      "text/plain": [
       "          id  vendor_id pickup_datetime dropoff_datetime  passenger_count  \\\n",
       "0  id3487442          2   2/29/16 18:39    2/29/16 18:42                1   \n",
       "1  id1145809          2   5/16/16 23:15    5/16/16 23:31                6   \n",
       "2  id3499387          1   1/25/16 19:45    1/25/16 19:54                1   \n",
       "3  id0753277          1   1/27/16 22:29    1/27/16 22:29                1   \n",
       "4  id2134482          1   1/22/16 16:13    1/22/16 16:13                1   \n",
       "\n",
       "   pickup_longitude  pickup_latitude  dropoff_longitude  dropoff_latitude  \\\n",
       "0        -73.981819        40.768963         -73.981819         40.768963   \n",
       "1        -73.808487        40.687336         -73.808487         40.687336   \n",
       "2        -73.786720        40.647041         -73.786720         40.647041   \n",
       "3        -74.209854        40.816853         -74.209854         40.816853   \n",
       "4        -73.776314        40.645454         -73.776314         40.645454   \n",
       "\n",
       "  store_and_fwd_flag  duration  distance  Unnamed: 12  Unnamed: 13  \\\n",
       "0                  N       227       0.0          NaN          NaN   \n",
       "1                  N       947       0.0          NaN          NaN   \n",
       "2                  N       580       0.0          NaN          NaN   \n",
       "3                  N        27       0.0          NaN          NaN   \n",
       "4                  N        19       0.0          NaN          NaN   \n",
       "\n",
       "   Unnamed: 14  \n",
       "0          NaN  \n",
       "1          NaN  \n",
       "2          NaN  \n",
       "3          NaN  \n",
       "4          NaN  "
      ],
      "text/html": [
       "<div>\n",
       "<style scoped>\n",
       "    .dataframe tbody tr th:only-of-type {\n",
       "        vertical-align: middle;\n",
       "    }\n",
       "\n",
       "    .dataframe tbody tr th {\n",
       "        vertical-align: top;\n",
       "    }\n",
       "\n",
       "    .dataframe thead th {\n",
       "        text-align: right;\n",
       "    }\n",
       "</style>\n",
       "<table border=\"1\" class=\"dataframe\">\n",
       "  <thead>\n",
       "    <tr style=\"text-align: right;\">\n",
       "      <th></th>\n",
       "      <th>id</th>\n",
       "      <th>vendor_id</th>\n",
       "      <th>pickup_datetime</th>\n",
       "      <th>dropoff_datetime</th>\n",
       "      <th>passenger_count</th>\n",
       "      <th>pickup_longitude</th>\n",
       "      <th>pickup_latitude</th>\n",
       "      <th>dropoff_longitude</th>\n",
       "      <th>dropoff_latitude</th>\n",
       "      <th>store_and_fwd_flag</th>\n",
       "      <th>duration</th>\n",
       "      <th>distance</th>\n",
       "      <th>Unnamed: 12</th>\n",
       "      <th>Unnamed: 13</th>\n",
       "      <th>Unnamed: 14</th>\n",
       "    </tr>\n",
       "  </thead>\n",
       "  <tbody>\n",
       "    <tr>\n",
       "      <td>0</td>\n",
       "      <td>id3487442</td>\n",
       "      <td>2</td>\n",
       "      <td>2/29/16 18:39</td>\n",
       "      <td>2/29/16 18:42</td>\n",
       "      <td>1</td>\n",
       "      <td>-73.981819</td>\n",
       "      <td>40.768963</td>\n",
       "      <td>-73.981819</td>\n",
       "      <td>40.768963</td>\n",
       "      <td>N</td>\n",
       "      <td>227</td>\n",
       "      <td>0.0</td>\n",
       "      <td>NaN</td>\n",
       "      <td>NaN</td>\n",
       "      <td>NaN</td>\n",
       "    </tr>\n",
       "    <tr>\n",
       "      <td>1</td>\n",
       "      <td>id1145809</td>\n",
       "      <td>2</td>\n",
       "      <td>5/16/16 23:15</td>\n",
       "      <td>5/16/16 23:31</td>\n",
       "      <td>6</td>\n",
       "      <td>-73.808487</td>\n",
       "      <td>40.687336</td>\n",
       "      <td>-73.808487</td>\n",
       "      <td>40.687336</td>\n",
       "      <td>N</td>\n",
       "      <td>947</td>\n",
       "      <td>0.0</td>\n",
       "      <td>NaN</td>\n",
       "      <td>NaN</td>\n",
       "      <td>NaN</td>\n",
       "    </tr>\n",
       "    <tr>\n",
       "      <td>2</td>\n",
       "      <td>id3499387</td>\n",
       "      <td>1</td>\n",
       "      <td>1/25/16 19:45</td>\n",
       "      <td>1/25/16 19:54</td>\n",
       "      <td>1</td>\n",
       "      <td>-73.786720</td>\n",
       "      <td>40.647041</td>\n",
       "      <td>-73.786720</td>\n",
       "      <td>40.647041</td>\n",
       "      <td>N</td>\n",
       "      <td>580</td>\n",
       "      <td>0.0</td>\n",
       "      <td>NaN</td>\n",
       "      <td>NaN</td>\n",
       "      <td>NaN</td>\n",
       "    </tr>\n",
       "    <tr>\n",
       "      <td>3</td>\n",
       "      <td>id0753277</td>\n",
       "      <td>1</td>\n",
       "      <td>1/27/16 22:29</td>\n",
       "      <td>1/27/16 22:29</td>\n",
       "      <td>1</td>\n",
       "      <td>-74.209854</td>\n",
       "      <td>40.816853</td>\n",
       "      <td>-74.209854</td>\n",
       "      <td>40.816853</td>\n",
       "      <td>N</td>\n",
       "      <td>27</td>\n",
       "      <td>0.0</td>\n",
       "      <td>NaN</td>\n",
       "      <td>NaN</td>\n",
       "      <td>NaN</td>\n",
       "    </tr>\n",
       "    <tr>\n",
       "      <td>4</td>\n",
       "      <td>id2134482</td>\n",
       "      <td>1</td>\n",
       "      <td>1/22/16 16:13</td>\n",
       "      <td>1/22/16 16:13</td>\n",
       "      <td>1</td>\n",
       "      <td>-73.776314</td>\n",
       "      <td>40.645454</td>\n",
       "      <td>-73.776314</td>\n",
       "      <td>40.645454</td>\n",
       "      <td>N</td>\n",
       "      <td>19</td>\n",
       "      <td>0.0</td>\n",
       "      <td>NaN</td>\n",
       "      <td>NaN</td>\n",
       "      <td>NaN</td>\n",
       "    </tr>\n",
       "  </tbody>\n",
       "</table>\n",
       "</div>"
      ]
     },
     "metadata": {},
     "execution_count": 16
    }
   ],
   "metadata": {}
  },
  {
   "cell_type": "code",
   "execution_count": 14,
   "source": [
    "df.distance.describe()"
   ],
   "outputs": [
    {
     "output_type": "execute_result",
     "data": {
      "text/plain": [
       "count    1.048468e+06\n",
       "mean     3.442279e+00\n",
       "std      4.382064e+00\n",
       "min      0.000000e+00\n",
       "25%      1.232231e+00\n",
       "50%      2.094639e+00\n",
       "75%      3.876902e+00\n",
       "max      1.240909e+03\n",
       "Name: distance, dtype: float64"
      ]
     },
     "metadata": {},
     "execution_count": 14
    }
   ],
   "metadata": {}
  },
  {
   "cell_type": "code",
   "execution_count": null,
   "source": [
    "  CREATE TABLE taxi_rides (\n",
    " \tid varchar(30),\n",
    "  \tvendor_id varchar(30),\n",
    "  \tpickup_datetime timestamp,\n",
    "  \tdropoff_datetime timestamp,\n",
    "  \tpassenger_count integer,\n",
    "  \tpickup_longitude numeric,\n",
    "  \tpickup_latitude numeric,\n",
    "  \tdropoff_longitude numeric,\n",
    " \tdropoff_latitude numeric,\n",
    "  \tstore_and_fwd_flag varchar(30),\n",
    "  \tduration numeric,\n",
    "  \tdistance numeric\n",
    "  );"
   ],
   "outputs": [],
   "metadata": {}
  },
  {
   "cell_type": "code",
   "execution_count": null,
   "source": [
    "COPY taxi_rides (id,vendor_id,pickup_datetime,dropoff_datetime,passenger_count,pickup_longitude,pickup_latitude,dropoff_longitude,dropoff_latitude,store_and_fwd_flag,duration,distance)\n",
    "FROM '/Users/danghuynhmaianh/Desktop/taxi_rides.csv'\n",
    "WITH (FORMAT CSV, HEADER);"
   ],
   "outputs": [],
   "metadata": {}
  }
 ],
 "metadata": {
  "orig_nbformat": 4,
  "language_info": {
   "name": "python",
   "version": "3.7.4",
   "mimetype": "text/x-python",
   "codemirror_mode": {
    "name": "ipython",
    "version": 3
   },
   "pygments_lexer": "ipython3",
   "nbconvert_exporter": "python",
   "file_extension": ".py"
  },
  "kernelspec": {
   "name": "python3",
   "display_name": "Python 3.7.4 64-bit ('base': conda)"
  },
  "interpreter": {
   "hash": "dca0ade3e726a953b501b15e8e990130d2b7799f14cfd9f4271676035ebe5511"
  }
 },
 "nbformat": 4,
 "nbformat_minor": 2
}